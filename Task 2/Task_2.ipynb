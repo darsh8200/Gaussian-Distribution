{
  "nbformat": 4,
  "nbformat_minor": 0,
  "metadata": {
    "colab": {
      "name": "Task 2.ipynb",
      "provenance": []
    },
    "kernelspec": {
      "name": "python3",
      "display_name": "Python 3"
    },
    "language_info": {
      "name": "python"
    }
  },
  "cells": [
    {
      "cell_type": "markdown",
      "metadata": {
        "id": "NuUCyOQ7ooLR"
      },
      "source": [
        "## **TASK 2**\n",
        "\n",
        "Cholesky Decomposition is used in this code for constructing valid covariance matrix which will help us to get multiple samples of gaussian distribution for N=3 and N=5. In, reality we need our base covariance matrix positive definite (basic for gaussian distribution). \n",
        "\n",
        "---\n",
        "\n",
        "Covariance matrix should be positive definite and for generating samples i have used np.random.mormal()"
      ]
    },
    {
      "cell_type": "code",
      "metadata": {
        "colab": {
          "base_uri": "https://localhost:8080/"
        },
        "id": "4dthuVtVqbBc",
        "outputId": "4498406a-de14-449a-e180-1e0cc5a77bb2"
      },
      "source": [
        "import numpy as np \n",
        "import matplotlib.pyplot as plt\n",
        "import seaborn as sns; sns.set()\n",
        " \n",
        "# Define dimension. \n",
        "d = 3\n",
        "# Set mean vector. \n",
        "m_3 = np.array([1, 2, 3]).reshape(3, 1)\n",
        "# Set covariance function. Positive Definite\n",
        "K_3 = np.array([[2, -1, 0],\n",
        "                [-1, 2, -1], \n",
        "                [0, -1, 2]])\n",
        "\n",
        "#print(np.linalg.eigvals(K_3))\n",
        "epsilon = 0.0001 # For noise\n",
        "\n",
        "# Add small pertturbation. \n",
        "K = K_3 + epsilon*np.identity(d)\n",
        "\n",
        "#  Cholesky decomposition.\n",
        "L = np.linalg.cholesky(K)\n",
        "\n",
        "#print(L)\n",
        "#print(np.dot(L, np.transpose(L)))\n",
        " \n",
        "# Number of samples. \n",
        "n = 10000\n",
        "u = np.random.normal(loc=0, scale=1, size=d*n).reshape(d, n)\n",
        "x_3 = m_3 + np.dot(L, u)\n",
        "print(' ')\n",
        "print('BELOW ARE GENERATED 3-D SAMPLES')\n",
        "print(x_3.shape)\n",
        "print(' ')\n",
        "print(x_3)\n",
        "#sns.jointplot(x=x[0], y=x[1], kind=\"kde\", space=0);"
      ],
      "execution_count": 10,
      "outputs": [
        {
          "output_type": "stream",
          "text": [
            " \n",
            "BELOW ARE GENERATED 3-D SAMPLES\n",
            "(3, 10000)\n",
            " \n",
            "[[0.66358075 0.57932334 2.51422916 ... 1.48340453 2.02684266 1.74343072]\n",
            " [2.57099125 2.02355176 1.6810126  ... 3.12192499 1.32809613 3.32883407]\n",
            " [4.68654933 3.34469483 1.62277438 ... 2.32420348 1.87670839 2.32114827]]\n"
          ],
          "name": "stdout"
        }
      ]
    },
    {
      "cell_type": "code",
      "metadata": {
        "colab": {
          "base_uri": "https://localhost:8080/"
        },
        "id": "WCZ2rOoJqea8",
        "outputId": "19f08d80-0dd4-434d-bc6d-11ebfeef7903"
      },
      "source": [
        "import numpy as np \n",
        "import matplotlib.pyplot as plt\n",
        "import seaborn as sns; sns.set()\n",
        "\n",
        "# Define dimension. \n",
        "d = 5\n",
        "# Set mean vector. \n",
        "m_5 = np.array([1, 2, 3, 4, 5]).reshape(5, 1)\n",
        "# Set covariance function. \n",
        "# A Toeplitz matrix with eigen value 0.5484316\n",
        "K_5 = np.array([[5, 4, 3, 2, 1],\n",
        "                [4, 5, 4, 3, 2],\n",
        "                [3, 4, 5, 4, 3],\n",
        "                [2, 3, 4, 5, 4], \n",
        "                [1, 2, 3, 4, 5]])\n",
        "#print(np.linalg.eigvals(K_5))\n",
        "\n",
        "epsilon = 0.0001 # For noise \n",
        "# Add small pertturbation. \n",
        "K = K_5 + epsilon*np.identity(d)\n",
        "\n",
        "#  Cholesky decomposition.\n",
        "L = np.linalg.cholesky(K)\n",
        "#print(L)\n",
        "#print(np.dot(L, np.transpose(L)))\n",
        "\n",
        "\n",
        "# Number of samples. \n",
        "n = 10000\n",
        "\n",
        "u = np.random.normal(loc=0, scale=1, size=d*n).reshape(d, n)\n",
        "x_5 = m_5 + np.dot(L, u)\n",
        "print(' ')\n",
        "print('BELOW ARE GENERATED 5-D SAMPLES')\n",
        "print(x_5.shape)\n",
        "print(' ')\n",
        "print(x_5)\n",
        "#sns.jointplot(x=x[0], y=x[1], kind=\"kde\", space=0);"
      ],
      "execution_count": 11,
      "outputs": [
        {
          "output_type": "stream",
          "text": [
            " \n",
            "BELOW ARE GENERATED 5-D SAMPLES\n",
            "(5, 10000)\n",
            " \n",
            "[[ 2.247744    1.76049145  1.49146641 ... -1.370183    0.52709458\n",
            "   4.549873  ]\n",
            " [-0.31038131  2.55582661  1.02122686 ...  0.80050714  3.10906317\n",
            "   4.78677108]\n",
            " [ 0.95418538  2.4217553   1.18133553 ... -0.6321145   5.71604608\n",
            "   6.25488818]\n",
            " [ 2.72819449  3.52135292  2.77586922 ... -0.59460381  4.26626331\n",
            "   4.76972464]\n",
            " [ 3.61853754  2.87075377  3.71282917 ...  2.69061058  3.54288804\n",
            "   4.08296364]]\n"
          ],
          "name": "stdout"
        }
      ]
    }
  ]
}
